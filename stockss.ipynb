{
 "cells": [
  {
   "cell_type": "code",
   "execution_count": 3,
   "id": "01fa606c-ef98-4a79-beef-198924a279a2",
   "metadata": {},
   "outputs": [
    {
     "name": "stdin",
     "output_type": "stream",
     "text": [
      "which stock you would like  to Purchase ? ktm\n"
     ]
    },
    {
     "name": "stdout",
     "output_type": "stream",
     "text": [
      "' ktm '!! its avilable \n"
     ]
    },
    {
     "name": "stdin",
     "output_type": "stream",
     "text": [
      "enter quantity :  4\n"
     ]
    },
    {
     "name": "stdout",
     "output_type": "stream",
     "text": [
      "Amount to pay ==> 80 Rupees\n"
     ]
    }
   ],
   "source": [
    "stock=[\"bajaj\",\"ktm\",\"mrf\",\"mahindra\",\"waree\",\"zomato\",\"adani\"]\n",
    "amount=[10,20,30,40,50,60,70]\n",
    "x=input(\"which stock you would like  to Purchase ?\")\n",
    "\n",
    "for i in (stock):\n",
    "    if(i==x):\n",
    "        print(\"'\",x,\"'\"\"!! its avilable \")\n",
    "        if(i==stock[0]):\n",
    "            y=int(input(\"Enter quantity : \"))\n",
    "            print(\"Amount to pay ==>\",amount[0]*y,\"Rupees\")\n",
    "        elif(i==stock[1]):\n",
    "            y=int(input(\"Enter quantity : \"))\n",
    "            print(\"Amount to pay ==>\",amount[1]*y,\"Rupees\")\n",
    "        elif(i==stock[2]):\n",
    "            y=int(input(\"Enter quantity : \"))\n",
    "            print(\"Amount to pay ==>\",amount[2]*y,\"Rupees\")\n",
    "        elif(i==stock[3]):\n",
    "            y=int(input(\"Enter quantity : \"))\n",
    "            print(\"Amount to pay ==>\",amount[3]*y,\"Rupees\")\n",
    "        elif(i==stock[4]):\n",
    "            y=int(input(\"Enter quantity : \"))\n",
    "            print(\"Amount to pay ==>\",amount[4]*y,\"Rupees\")\n",
    "        elif(i==stock[5]):\n",
    "            y=int(input(\"Enter quantity : \"))\n",
    "            print(\"Amount to pay ==>\",amount[5]*y,\"Rupees\")\n",
    "        elif(i==stock[6]):\n",
    "            y=int(input(\"Enter quantity : \"))\n",
    "            print(\"Amount to pay ==>\",amount[6]*y,\"Rupees\")\n",
    "        else:\n",
    "            break"
   ]
  }
 ],
 "metadata": {
  "kernelspec": {
   "display_name": "Python 3 (ipykernel)",
   "language": "python",
   "name": "python3"
  },
  "language_info": {
   "codemirror_mode": {
    "name": "ipython",
    "version": 3
   },
   "file_extension": ".py",
   "mimetype": "text/x-python",
   "name": "python",
   "nbconvert_exporter": "python",
   "pygments_lexer": "ipython3",
   "version": "3.12.5"
  }
 },
 "nbformat": 4,
 "nbformat_minor": 5
}
